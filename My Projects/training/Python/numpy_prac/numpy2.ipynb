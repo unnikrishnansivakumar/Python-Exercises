{
 "cells": [
  {
   "cell_type": "markdown",
   "metadata": {},
   "source": [
    "# Importing Libraries"
   ]
  },
  {
   "cell_type": "code",
   "execution_count": 2,
   "metadata": {
    "collapsed": true
   },
   "outputs": [],
   "source": [
    "import numpy as np\n",
    "from io import BytesIO"
   ]
  },
  {
   "cell_type": "markdown",
   "metadata": {},
   "source": [
    "## Genfromtxt function"
   ]
  },
  {
   "cell_type": "code",
   "execution_count": 5,
   "metadata": {
    "collapsed": false
   },
   "outputs": [
    {
     "name": "stdout",
     "output_type": "stream",
     "text": [
      "[[ 1.  2.  3.  4.]\n",
      " [ 2.  5.  1.  9.]]\n"
     ]
    }
   ],
   "source": [
    "# gen from txt splits each line into different element according to a specified delimiter\n",
    "\n",
    "data=\"1 2 3 4\\n 2 5 1 9\"\n",
    "d=np.genfromtxt(BytesIO(data),delimiter=\" \")\n",
    "\n",
    "print(d)\n"
   ]
  },
  {
   "cell_type": "code",
   "execution_count": 24,
   "metadata": {
    "collapsed": false
   },
   "outputs": [
    {
     "name": "stdout",
     "output_type": "stream",
     "text": [
      "[['1' '2aa' '3' '4' '5' '6']\n",
      " ['1' '2' '3' '44' '6' '7']]\n",
      "[['1' ' 2aa ' ' 3' ' 4 ' ' 5' ' 6']\n",
      " ['1' '2' ' 3' ' 44' '6' '7']]\n"
     ]
    }
   ],
   "source": [
    "#auto strip argument may be used to trim the entries once given\n",
    "\n",
    "data2=\"1, 2aa , 3, 4 , 5, 6\\n 1,2, 3, 44,6,7\"\n",
    "d=np.genfromtxt(BytesIO(data2),delimiter=\",\",dtype= \"|S5\",autostrip=True)\n",
    "f=np.genfromtxt(BytesIO(data2),delimiter=\",\",dtype= \"|S5\")\n",
    "\n",
    "#with autostrip\n",
    "print(d)\n",
    "\n",
    "#without autostrip\n",
    "print(f)\n"
   ]
  },
  {
   "cell_type": "code",
   "execution_count": 31,
   "metadata": {
    "collapsed": false
   },
   "outputs": [
    {
     "name": "stdout",
     "output_type": "stream",
     "text": [
      "0\n",
      "1\n",
      "2\n",
      "3\n",
      "4\n",
      "5\n",
      "6\n",
      "7\n",
      "8\n",
      "9\n",
      "[ 2.  3.  4.  5.  6.  7.]\n"
     ]
    }
   ],
   "source": [
    "#Skip header and skip footer arguments are also useful\n",
    "\n",
    "f= \"\\n\".join(str(i) for i in range(10))\n",
    "data=np.genfromtxt(BytesIO(f),skip_header=2,skip_footer=2)\n",
    "print(f)\n",
    "print(data)"
   ]
  },
  {
   "cell_type": "code",
   "execution_count": 39,
   "metadata": {
    "collapsed": false
   },
   "outputs": [
    {
     "name": "stdout",
     "output_type": "stream",
     "text": [
      "[[ 1.  2.  3.]\n",
      " [ 3.  4.  5.]]\n"
     ]
    }
   ],
   "source": [
    "#usecols argument helps specify the columns we would want to use\n",
    "# also specify colnames by using names argument\n",
    "f=\"1,2,3,4\\n 3,4,5,6\"\n",
    "data=np.genfromtxt(BytesIO(f),delimiter=\",\",usecols=(0,1,2))\n",
    "print(data)"
   ]
  },
  {
   "cell_type": "markdown",
   "metadata": {},
   "source": [
    "# Broadcasting"
   ]
  },
  {
   "cell_type": "code",
   "execution_count": 44,
   "metadata": {
    "collapsed": false
   },
   "outputs": [
    {
     "name": "stdout",
     "output_type": "stream",
     "text": [
      "[ 2.  4.  6.]\n"
     ]
    }
   ],
   "source": [
    "#smaller array is broadcasted withe the larger array so that they have compatible shapes\n",
    "\n",
    "a=np.array([1,2,3])\n",
    "b=2.0\n",
    "\n",
    "print(a*b) # b is broadcasted to [2,2,2]"
   ]
  },
  {
   "cell_type": "markdown",
   "metadata": {},
   "source": [
    "## General broadcasting rules\n",
    "\n",
    "* compares the shapes element wise and decides whether they are compatible\n",
    "* they are equal\n",
    "* One of the dimension is 1\n",
    "\n",
    "* If any other condition then a value error is displayed"
   ]
  },
  {
   "cell_type": "code",
   "execution_count": 48,
   "metadata": {
    "collapsed": false
   },
   "outputs": [
    {
     "data": {
      "text/plain": [
       "array([[22, 33],\n",
       "       [32, 43],\n",
       "       [42, 53],\n",
       "       [52, 63]])"
      ]
     },
     "execution_count": 48,
     "metadata": {},
     "output_type": "execute_result"
    }
   ],
   "source": [
    "s=np.array([0,10,20,30])\n",
    "t=np.array([22,33])\n",
    "s[:,np.newaxis]+t # Here s is converted to a bigger matrix which is t"
   ]
  },
  {
   "cell_type": "markdown",
   "metadata": {},
   "source": [
    "## Game of life\n",
    "\n",
    "* Conway- \n",
    "* Here we make use of the glider method "
   ]
  },
  {
   "cell_type": "code",
   "execution_count": 80,
   "metadata": {
    "collapsed": true
   },
   "outputs": [],
   "source": [
    "\n",
    "def compute_neigh(z):\n",
    "    shape=len(z),len(z[0])\n",
    "    N=[[0]*shape[0] for i in range(shape[1])]\n",
    "    for i in range(1,shape[0]-1):\n",
    "        for j in range(1,shape[1]-1):\n",
    "            N[i][j]=z[i-1][j-1]+z[i-1][j]+z[i-1][j+1]+z[i][j-1]+z[i][j+1]+z[i+1][j-1]+z[i+1][j]+z[i+1][j+1]          \n",
    "    return N\n",
    "\n",
    "\n",
    "def iterate(z):\n",
    "    N=compute_neigh(z)\n",
    "    for i in range(1,shape[0]-1):\n",
    "        for j in range(1,shape[1]-1):\n",
    "            if(z[i][j]!=0) and (N[i][j]<2 or N[i][j]>3):\n",
    "                z[i][j]=0\n",
    "            elif(z[i][j]==0) and (N[i][j]==3):\n",
    "                z[i][j]=1\n",
    "    return z\n",
    "    "
   ]
  },
  {
   "cell_type": "code",
   "execution_count": 151,
   "metadata": {
    "collapsed": false
   },
   "outputs": [
    {
     "name": "stdout",
     "output_type": "stream",
     "text": [
      "[0, 0, 0, 0, 0, 0, 0]\n",
      "[0, 1, 0, 0, 0, 0, 0]\n",
      "[0, 1, 1, 1, 0, 0, 0]\n",
      "[0, 0, 1, 1, 1, 0, 0]\n",
      "[0, 0, 0, 1, 1, 1, 0]\n",
      "[0, 0, 0, 0, 1, 0, 0]\n",
      "[0, 0, 0, 0, 0, 0, 0]\n"
     ]
    }
   ],
   "source": [
    " z =     [[0,0,0,0,0,0,0],\n",
    "         [0,1,0,0,0,0,0],\n",
    "         [0,1,1,1,0,0,0],\n",
    "         [0,0,1,1,1,0,0],\n",
    "         [0,0,0,1,1,1,0],\n",
    "         [0,0,0,0,1,0,0],\n",
    "         [0,0,0,0,0,0,0]]\n",
    "\n",
    "for i in z:\n",
    "    print (i)"
   ]
  },
  {
   "cell_type": "code",
   "execution_count": 112,
   "metadata": {
    "collapsed": false
   },
   "outputs": [
    {
     "name": "stdout",
     "output_type": "stream",
     "text": [
      "[0, 0, 0, 0, 0, 0, 0]\n",
      "[0, 2, 4, 2, 1, 0, 0]\n",
      "[0, 3, 5, 4, 3, 1, 0]\n",
      "[0, 3, 5, 6, 5, 3, 0]\n",
      "[0, 1, 3, 5, 5, 3, 0]\n",
      "[0, 0, 1, 3, 3, 3, 0]\n",
      "[0, 0, 0, 0, 0, 0, 0]\n"
     ]
    }
   ],
   "source": [
    "for n in compute_neigh(z):\n",
    "    print n"
   ]
  },
  {
   "cell_type": "code",
   "execution_count": 117,
   "metadata": {
    "collapsed": false,
    "scrolled": true
   },
   "outputs": [
    {
     "name": "stdout",
     "output_type": "stream",
     "text": [
      "[0, 0, 0, 0, 0, 0, 0]\n",
      "[0, 0, 0, 0, 0, 0, 0]\n",
      "[0, 1, 1, 0, 0, 0, 0]\n",
      "[0, 1, 1, 0, 0, 0, 0]\n",
      "[0, 0, 0, 0, 0, 1, 0]\n",
      "[0, 0, 0, 0, 1, 0, 0]\n",
      "[0, 0, 0, 0, 0, 0, 0]\n"
     ]
    }
   ],
   "source": [
    "for s in iterate(z):\n",
    "    print(s)\n",
    "    \n",
    "z=iterate(z)"
   ]
  },
  {
   "cell_type": "markdown",
   "metadata": {},
   "source": [
    "# Numpy implementation of the game of life"
   ]
  },
  {
   "cell_type": "code",
   "execution_count": 228,
   "metadata": {
    "collapsed": true
   },
   "outputs": [],
   "source": [
    " Zu =     [[0,0,0,0,0,0,0],\n",
    "         [0,1,0,0,0,0,0],\n",
    "         [0,1,1,1,0,0,0],\n",
    "         [0,0,1,1,1,0,0],\n",
    "         [0,0,0,1,1,1,0],\n",
    "         [0,0,0,0,1,0,0],\n",
    "         [0,0,0,0,0,0,0]]"
   ]
  },
  {
   "cell_type": "code",
   "execution_count": 229,
   "metadata": {
    "collapsed": false
   },
   "outputs": [],
   "source": [
    "def compute_nbr_np(z):\n",
    "    z=np.array(z)\n",
    "    shape=len(z),len(z[0])\n",
    "    N=np.zeros((shape[0],shape[1]))\n",
    "    N[1:-1,1:-1]+= z[:-2,:-2]+z[:-2,1:-1]+z[:-2,2:]+z[1:-1,:-2]+z[1:-1,2:]+z[2:,:-2]+z[2:,1:-1]+z[2:,2:]\n",
    "    return N"
   ]
  },
  {
   "cell_type": "code",
   "execution_count": 230,
   "metadata": {
    "collapsed": false
   },
   "outputs": [],
   "source": [
    "def iterate(z):\n",
    "    n=np.array(compute_nbr_np(z))\n",
    "    k=np.array(z)\n",
    "    s= n[1:-1,1:-1]\n",
    "    birth = (s==3) & (k[1:-1,1:-1]==0)\n",
    "    survive = ((s==2) | (s==3)) & (k[1:-1,1:-1]==1)\n",
    "    k[:,:]=0\n",
    "    k[1:-1,1:-1][birth|survive]=1\n",
    "    return k"
   ]
  },
  {
   "cell_type": "code",
   "execution_count": 245,
   "metadata": {
    "collapsed": false
   },
   "outputs": [
    {
     "name": "stdout",
     "output_type": "stream",
     "text": [
      "[[0 0 0 0 0 0 0]\n",
      " [0 0 0 0 0 0 0]\n",
      " [0 0 0 0 0 0 0]\n",
      " [0 0 0 0 0 0 0]\n",
      " [0 0 0 0 0 0 0]\n",
      " [0 0 0 0 0 0 0]\n",
      " [0 0 0 0 0 0 0]]\n"
     ]
    }
   ],
   "source": [
    "Zu=iterate(Zu)\n",
    "print(Zu)"
   ]
  },
  {
   "cell_type": "code",
   "execution_count": null,
   "metadata": {
    "collapsed": true
   },
   "outputs": [],
   "source": []
  }
 ],
 "metadata": {
  "anaconda-cloud": {},
  "kernelspec": {
   "display_name": "Python [default]",
   "language": "python",
   "name": "python2"
  },
  "language_info": {
   "codemirror_mode": {
    "name": "ipython",
    "version": 2
   },
   "file_extension": ".py",
   "mimetype": "text/x-python",
   "name": "python",
   "nbconvert_exporter": "python",
   "pygments_lexer": "ipython2",
   "version": "2.7.12"
  }
 },
 "nbformat": 4,
 "nbformat_minor": 1
}
