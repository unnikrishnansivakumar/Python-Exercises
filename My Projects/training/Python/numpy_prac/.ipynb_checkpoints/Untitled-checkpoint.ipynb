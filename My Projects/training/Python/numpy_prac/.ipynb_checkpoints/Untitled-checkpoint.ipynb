{
 "cells": [
  {
   "cell_type": "code",
   "execution_count": 2,
   "metadata": {
    "collapsed": true
   },
   "outputs": [],
   "source": [
    "import numpy as np"
   ]
  },
  {
   "cell_type": "markdown",
   "metadata": {},
   "source": [
    "# creating an np array"
   ]
  },
  {
   "cell_type": "code",
   "execution_count": 8,
   "metadata": {
    "collapsed": false
   },
   "outputs": [
    {
     "name": "stdout",
     "output_type": "stream",
     "text": [
      "((2L, 4L), 2, 8, dtype('int32'), 4, 8)\n"
     ]
    }
   ],
   "source": [
    "a=np.array([[1,2,3,4],[1,3,5,7]])\n",
    "print(a.shape,\n",
    "a.ndim,\n",
    "a.size,\n",
    "a.dtype,\n",
    "a.itemsize)"
   ]
  },
  {
   "cell_type": "markdown",
   "metadata": {},
   "source": [
    "# array type can be mentioned explicitly"
   ]
  },
  {
   "cell_type": "code",
   "execution_count": 13,
   "metadata": {
    "collapsed": false
   },
   "outputs": [
    {
     "name": "stdout",
     "output_type": "stream",
     "text": [
      "[[ 1.+0.j  2.+0.j  3.+0.j]\n",
      " [ 4.+0.j  5.+0.j  4.+0.j]]\n"
     ]
    }
   ],
   "source": [
    "b=np.array([[1,2,3],[4,5,4]],dtype=complex)\n",
    "print(b)"
   ]
  },
  {
   "cell_type": "markdown",
   "metadata": {},
   "source": [
    "# creating an array of ones and zeros"
   ]
  },
  {
   "cell_type": "code",
   "execution_count": 15,
   "metadata": {
    "collapsed": false
   },
   "outputs": [
    {
     "name": "stdout",
     "output_type": "stream",
     "text": [
      "[[ 0.  0.  0.  0.  0.]\n",
      " [ 0.  0.  0.  0.  0.]\n",
      " [ 0.  0.  0.  0.  0.]\n",
      " [ 0.  0.  0.  0.  0.]]\n",
      "[[ 1.  1.  1.  1.  1.]\n",
      " [ 1.  1.  1.  1.  1.]\n",
      " [ 1.  1.  1.  1.  1.]\n",
      " [ 1.  1.  1.  1.  1.]]\n"
     ]
    }
   ],
   "source": [
    "print(np.zeros((4,5)))\n",
    "print(np.ones((4,5)))"
   ]
  },
  {
   "cell_type": "markdown",
   "metadata": {},
   "source": [
    "# Creating a sequence of numbers (like seq fn in R)"
   ]
  },
  {
   "cell_type": "code",
   "execution_count": 16,
   "metadata": {
    "collapsed": false
   },
   "outputs": [
    {
     "data": {
      "text/plain": [
       "array([10, 15, 20, 25, 30])"
      ]
     },
     "execution_count": 16,
     "metadata": {},
     "output_type": "execute_result"
    }
   ],
   "source": [
    "np.arange(10,35,5)"
   ]
  },
  {
   "cell_type": "markdown",
   "metadata": {},
   "source": [
    "## linspace recieves the count of numbers required as argument instead of step"
   ]
  },
  {
   "cell_type": "code",
   "execution_count": 21,
   "metadata": {
    "collapsed": false
   },
   "outputs": [
    {
     "name": "stdout",
     "output_type": "stream",
     "text": [
      "[  0.00000000e+00   6.42787610e-01   9.84807753e-01   8.66025404e-01\n",
      "   3.42020143e-01  -3.42020143e-01  -8.66025404e-01  -9.84807753e-01\n",
      "  -6.42787610e-01  -2.44929360e-16]\n"
     ]
    }
   ],
   "source": [
    "from numpy import pi\n",
    "\n",
    "g=np.linspace(0,2*pi,10)\n",
    "f=np.sin(g)\n",
    "print(f)\n"
   ]
  },
  {
   "cell_type": "markdown",
   "metadata": {},
   "source": [
    "## Reshape can be used to change the structure of the array. To print all values you can give set_printoptions(threshold='nan')"
   ]
  },
  {
   "cell_type": "code",
   "execution_count": 23,
   "metadata": {
    "collapsed": false
   },
   "outputs": [
    {
     "name": "stdout",
     "output_type": "stream",
     "text": [
      "[ 0  1  2  3  4  5  6  7  8  9 10 11 12 13 14 15 16 17 18 19 20 21 22 23]\n",
      "[[ 0  1  2  3]\n",
      " [ 4  5  6  7]\n",
      " [ 8  9 10 11]\n",
      " [12 13 14 15]\n",
      " [16 17 18 19]\n",
      " [20 21 22 23]]\n",
      "[[[ 0  1  2  3]\n",
      "  [ 4  5  6  7]\n",
      "  [ 8  9 10 11]]\n",
      "\n",
      " [[12 13 14 15]\n",
      "  [16 17 18 19]\n",
      "  [20 21 22 23]]]\n"
     ]
    }
   ],
   "source": [
    "a=np.arange(24)\n",
    "b=np.arange(24).reshape(6,4)\n",
    "c=np.arange(24).reshape(2,3,4)\n",
    "print(a)\n",
    "print(b)\n",
    "print(c)"
   ]
  },
  {
   "cell_type": "markdown",
   "metadata": {},
   "source": [
    "## Random number Generation"
   ]
  },
  {
   "cell_type": "code",
   "execution_count": 25,
   "metadata": {
    "collapsed": false
   },
   "outputs": [
    {
     "data": {
      "text/plain": [
       "array([[[ 0.23645598,  0.95118087,  0.42785809,  0.81714184],\n",
       "        [ 0.04213749,  0.53372709,  0.41717182,  0.05275335],\n",
       "        [ 0.54795159,  0.43727122,  0.2314495 ,  0.99896486]],\n",
       "\n",
       "       [[ 0.58318359,  0.31545361,  0.34292137,  0.64997942],\n",
       "        [ 0.14649924,  0.8089815 ,  0.69470761,  0.77885179],\n",
       "        [ 0.48382446,  0.69330477,  0.64981792,  0.59289877]]])"
      ]
     },
     "execution_count": 25,
     "metadata": {},
     "output_type": "execute_result"
    }
   ],
   "source": [
    "np.random.random((2,3,4))"
   ]
  },
  {
   "cell_type": "code",
   "execution_count": 32,
   "metadata": {
    "collapsed": false
   },
   "outputs": [
    {
     "name": "stdout",
     "output_type": "stream",
     "text": [
      "[  1.   2.   3.   4.   5.   6.   7.   8.   9.  10.  11.  12.]\n",
      "12.0\n",
      "1.0\n",
      "1.0\n",
      "1.0\n",
      "[[ 0.84147098  0.84147098  0.84147098  0.84147098]\n",
      " [ 0.84147098  0.84147098  0.84147098  0.84147098]\n",
      " [ 0.84147098  0.84147098  0.84147098  0.84147098]]\n",
      "[[ 0.54030231  0.54030231  0.54030231  0.54030231]\n",
      " [ 0.54030231  0.54030231  0.54030231  0.54030231]\n",
      " [ 0.54030231  0.54030231  0.54030231  0.54030231]]\n"
     ]
    }
   ],
   "source": [
    "a=np.ones((3,4))\n",
    "print(np.cumsum(a))\n",
    "print(np.sum(a))\n",
    "print(np.min(a))\n",
    "print(np.max(a))\n",
    "print(np.mean(a))\n",
    "print(np.sin(a))\n",
    "print(np.cos(a))"
   ]
  },
  {
   "cell_type": "markdown",
   "metadata": {},
   "source": [
    "## printing column(0) sums and row(1) sums"
   ]
  },
  {
   "cell_type": "code",
   "execution_count": 38,
   "metadata": {
    "collapsed": false
   },
   "outputs": [
    {
     "name": "stdout",
     "output_type": "stream",
     "text": [
      "[ 8 10]\n",
      "[ 5 13]\n"
     ]
    }
   ],
   "source": [
    "print(np.sum(np.array(([[2,3],[6,7]])),axis=0))\n",
    "print(np.sum(np.array(([[2,3],[6,7]])),axis=1))"
   ]
  },
  {
   "cell_type": "markdown",
   "metadata": {},
   "source": [
    "## Indexing Slicing and Iterating"
   ]
  },
  {
   "cell_type": "code",
   "execution_count": 45,
   "metadata": {
    "collapsed": false
   },
   "outputs": [
    {
     "name": "stdout",
     "output_type": "stream",
     "text": [
      "(array([[ 0,  1,  2],\n",
      "       [10, 11, 12],\n",
      "       [20, 21, 22]]), array([[0, 1, 2],\n",
      "       [1, 2, 3],\n",
      "       [2, 3, 4]]))\n",
      "2\n"
     ]
    }
   ],
   "source": [
    "def gfunc(x,y):\n",
    "    return 10*x+y,x+y\n",
    "\n",
    "c=np.fromfunction(gfunc,(3,3),dtype=int)\n",
    "\n",
    "print(c)\n",
    "\n",
    "print(c[1][1,1])"
   ]
  },
  {
   "cell_type": "markdown",
   "metadata": {},
   "source": [
    "## Changing shape of an array (Reshape,flat,ravel etc)"
   ]
  },
  {
   "cell_type": "code",
   "execution_count": 58,
   "metadata": {
    "collapsed": false
   },
   "outputs": [
    {
     "name": "stdout",
     "output_type": "stream",
     "text": [
      "[[[ 0.10317061  0.96030567  0.12156746  0.46504487]\n",
      "  [ 0.92029265  0.12485485  0.17468164  0.54544118]\n",
      "  [ 0.4223785   0.27425381  0.07769575  0.09201658]]\n",
      "\n",
      " [[ 0.56490122  0.40336625  0.24152794  0.82878881]\n",
      "  [ 0.22316792  0.15637063  0.15641618  0.06689551]\n",
      "  [ 0.33748174  0.72383025  0.29513775  0.95898627]]]\n"
     ]
    }
   ],
   "source": [
    "a=np.random.random((2,3,4))\n",
    "print a"
   ]
  },
  {
   "cell_type": "code",
   "execution_count": 62,
   "metadata": {
    "collapsed": false
   },
   "outputs": [
    {
     "name": "stdout",
     "output_type": "stream",
     "text": [
      "[ 0.10317061  0.96030567  0.12156746  0.46504487]\n",
      "[ 0.92029265  0.12485485  0.17468164  0.54544118]\n",
      "[ 0.4223785   0.27425381  0.07769575  0.09201658]\n",
      "[ 0.56490122  0.40336625  0.24152794  0.82878881]\n",
      "[ 0.22316792  0.15637063  0.15641618  0.06689551]\n",
      "[ 0.33748174  0.72383025  0.29513775  0.95898627]\n"
     ]
    }
   ],
   "source": [
    "# generally iterating is done over rows (axis=1)\n",
    "\n",
    "for number in a:\n",
    "    for row in number:\n",
    "        print row"
   ]
  },
  {
   "cell_type": "code",
   "execution_count": 57,
   "metadata": {
    "collapsed": false
   },
   "outputs": [
    {
     "name": "stdout",
     "output_type": "stream",
     "text": [
      "0.842848978266\n",
      "0.108837011789\n",
      "0.238558836855\n",
      "0.715084957865\n",
      "0.203902271695\n",
      "0.217464568347\n",
      "0.666748576526\n",
      "0.294920935076\n",
      "0.106756753645\n",
      "0.182318568641\n",
      "0.815873457082\n",
      "0.865117433496\n",
      "0.852873825664\n",
      "0.724365785855\n",
      "0.500961730704\n",
      "0.224360992186\n",
      "0.348595932454\n",
      "0.120123274225\n",
      "0.908598664984\n",
      "0.20098906002\n",
      "0.978030107822\n",
      "0.857980973753\n",
      "0.966372699101\n",
      "0.0676688713444\n"
     ]
    }
   ],
   "source": [
    "for i in a.flat: #a.flat gives a flat array of a\n",
    "    print i"
   ]
  },
  {
   "cell_type": "code",
   "execution_count": 63,
   "metadata": {
    "collapsed": false
   },
   "outputs": [
    {
     "data": {
      "text/plain": [
       "array([ 0.10317061,  0.96030567,  0.12156746,  0.46504487,  0.92029265,\n",
       "        0.12485485,  0.17468164,  0.54544118,  0.4223785 ,  0.27425381,\n",
       "        0.07769575,  0.09201658,  0.56490122,  0.40336625,  0.24152794,\n",
       "        0.82878881,  0.22316792,  0.15637063,  0.15641618,  0.06689551,\n",
       "        0.33748174,  0.72383025,  0.29513775,  0.95898627])"
      ]
     },
     "execution_count": 63,
     "metadata": {},
     "output_type": "execute_result"
    }
   ],
   "source": [
    "a.ravel() # same option as flat but gives a callable array"
   ]
  },
  {
   "cell_type": "code",
   "execution_count": 36,
   "metadata": {
    "collapsed": false
   },
   "outputs": [
    {
     "name": "stdout",
     "output_type": "stream",
     "text": [
      "[[[ 0  1  2]\n",
      "  [ 3  4  5]\n",
      "  [ 6  7  8]\n",
      "  [ 9 10 11]\n",
      "  [12 13 14]]\n",
      "\n",
      " [[15 16 17]\n",
      "  [18 19 20]\n",
      "  [21 22 23]\n",
      "  [24 25 26]\n",
      "  [27 28 29]]]\n"
     ]
    }
   ],
   "source": [
    "# auto reshaping\n",
    "\n",
    "val=np.arange(30).reshape(2,-1,3) # -1 means take whatever is needed\n",
    "\n",
    "print(val)\n"
   ]
  },
  {
   "cell_type": "code",
   "execution_count": 66,
   "metadata": {
    "collapsed": false
   },
   "outputs": [
    {
     "name": "stdout",
     "output_type": "stream",
     "text": [
      "[[[ 0.10317061  0.96030567]\n",
      "  [ 0.12156746  0.46504487]\n",
      "  [ 0.92029265  0.12485485]\n",
      "  [ 0.17468164  0.54544118]]\n",
      "\n",
      " [[ 0.4223785   0.27425381]\n",
      "  [ 0.07769575  0.09201658]\n",
      "  [ 0.56490122  0.40336625]\n",
      "  [ 0.24152794  0.82878881]]\n",
      "\n",
      " [[ 0.22316792  0.15637063]\n",
      "  [ 0.15641618  0.06689551]\n",
      "  [ 0.33748174  0.72383025]\n",
      "  [ 0.29513775  0.95898627]]]\n"
     ]
    }
   ],
   "source": [
    "a.shape=(3,4,2)\n",
    "print(a)"
   ]
  },
  {
   "cell_type": "markdown",
   "metadata": {},
   "source": [
    "## Stacking arrays"
   ]
  },
  {
   "cell_type": "code",
   "execution_count": 78,
   "metadata": {
    "collapsed": false
   },
   "outputs": [
    {
     "name": "stdout",
     "output_type": "stream",
     "text": [
      "(array([[ 5.,  7.],\n",
      "       [ 3.,  0.]]), array([[ 9.,  1.],\n",
      "       [ 9.,  8.]]))\n"
     ]
    }
   ],
   "source": [
    "a=np.floor(10*np.random.random((2,2)))\n",
    "b=np.floor(10*np.random.random((2,2)))\n",
    "print(a,b)"
   ]
  },
  {
   "cell_type": "code",
   "execution_count": 79,
   "metadata": {
    "collapsed": false
   },
   "outputs": [
    {
     "name": "stdout",
     "output_type": "stream",
     "text": [
      "[[ 5.  7.]\n",
      " [ 3.  0.]\n",
      " [ 9.  1.]\n",
      " [ 9.  8.]]\n",
      "[[ 5.  7.  9.  1.]\n",
      " [ 3.  0.  9.  8.]]\n"
     ]
    }
   ],
   "source": [
    "c=np.vstack((a,b))\n",
    "d=np.hstack((a,b))\n",
    "print(c)\n",
    "print(d)"
   ]
  },
  {
   "cell_type": "code",
   "execution_count": 85,
   "metadata": {
    "collapsed": false
   },
   "outputs": [
    {
     "name": "stdout",
     "output_type": "stream",
     "text": [
      "[[ 0.69724162  0.61493496]\n",
      " [ 0.28491083  0.10901982]]\n"
     ]
    }
   ],
   "source": [
    "e=np.column_stack((np.random.random((2,1)),np.random.random((2,1))))\n",
    "print(e)"
   ]
  },
  {
   "cell_type": "code",
   "execution_count": 86,
   "metadata": {
    "collapsed": false
   },
   "outputs": [
    {
     "data": {
      "text/plain": [
       "array([[[ 5.,  7.]],\n",
       "\n",
       "       [[ 3.,  0.]]])"
      ]
     },
     "execution_count": 86,
     "metadata": {},
     "output_type": "execute_result"
    }
   ],
   "source": [
    "from numpy import newaxis\n",
    "a[:,newaxis]"
   ]
  },
  {
   "cell_type": "code",
   "execution_count": 101,
   "metadata": {
    "collapsed": false
   },
   "outputs": [
    {
     "name": "stdout",
     "output_type": "stream",
     "text": [
      "(array([ 0.17622951,  0.43041199,  0.29857227,  0.29160324]), array([[ 0.17622951],\n",
      "       [ 0.43041199],\n",
      "       [ 0.29857227],\n",
      "       [ 0.29160324]]), array([1, 2, 3, 0, 4]), array([ 0.17622951,  0.43041199,  0.29857227,  0.29160324]))\n"
     ]
    }
   ],
   "source": [
    "# stacking numbers in an array along the 2 axes\n",
    "\n",
    "s=np.r_[1:4,0,4]\n",
    "t=np.random.random(4)\n",
    "u=t[:,newaxis]\n",
    "v=t.T\n",
    "\n",
    "\n",
    "print(v,u,s,t)"
   ]
  },
  {
   "cell_type": "markdown",
   "metadata": {},
   "source": [
    "## Splitting an array into several small ones"
   ]
  },
  {
   "cell_type": "code",
   "execution_count": 14,
   "metadata": {
    "collapsed": false
   },
   "outputs": [
    {
     "name": "stdout",
     "output_type": "stream",
     "text": [
      "(array([[ 6.,  7.,  1.,  5.,  7.,  3.],\n",
      "       [ 3.,  1.,  2.,  9.,  7.,  2.]]), [array([[ 6.,  7.,  1.,  5.,  7.,  3.]]), array([[ 3.,  1.,  2.,  9.,  7.,  2.]])])\n"
     ]
    }
   ],
   "source": [
    "s=np.floor((10*np.random.random((2,6))))\n",
    "\n",
    "print(s,np.vsplit(s,2))   #cuts into half horizontally\n",
    "print(s,np.hsplit(s,2))   #cuts into half vertically"
   ]
  },
  {
   "cell_type": "markdown",
   "metadata": {},
   "source": [
    "## Copies and views"
   ]
  },
  {
   "cell_type": "code",
   "execution_count": 21,
   "metadata": {
    "collapsed": false
   },
   "outputs": [
    {
     "name": "stdout",
     "output_type": "stream",
     "text": [
      "True\n",
      "False\n"
     ]
    }
   ],
   "source": [
    "# view is a copy that looks at the same data\n",
    "c = s.view()\n",
    "\n",
    "print(c.base is s) # c base is s but c is not s\n",
    "\n",
    "\n",
    "#copy creates a complete deep copy\n",
    "\n",
    "d=s.copy()\n",
    "\n",
    "print(d.base is s) # d base is not s"
   ]
  },
  {
   "cell_type": "markdown",
   "metadata": {},
   "source": [
    "Array Creation\n",
    "\n",
    "arange, array, copy, empty, empty_like, eye, fromfile, fromfunction, identity, linspace, logspace, mgrid, ogrid, ones, ones_like, r, zeros, zeros_like\n",
    "\n",
    "Conversions\n",
    "\n",
    "ndarray.astype, atleast_1d, atleast_2d, atleast_3d, mat\n",
    "\n",
    "Manipulations\n",
    "\n",
    "array_split, column_stack, concatenate, diagonal, dsplit, dstack, hsplit, hstack, ndarray.item, newaxis, ravel, repeat, reshape, resize, squeeze, swapaxes, take, transpose, vsplit, vstack\n",
    "\n",
    "Questions\n",
    "\n",
    "all, any, nonzero, where\n",
    "\n",
    "Ordering\n",
    "\n",
    "argmax, argmin, argsort, max, min, ptp, searchsorted, sort\n",
    "\n",
    "Operations\n",
    "\n",
    "choose, compress, cumprod, cumsum, inner, ndarray.fill, imag, prod, put, putmask, real, sum\n",
    "\n",
    "Basic Statistics\n",
    "\n",
    "cov, mean, std, var\n",
    "\n",
    "Basic Linear Algebra\n",
    "\n",
    "cross, dot, outer, linalg.svd, vdot"
   ]
  },
  {
   "cell_type": "markdown",
   "metadata": {},
   "source": [
    "## Indexing with boolean arrays"
   ]
  },
  {
   "cell_type": "code",
   "execution_count": 30,
   "metadata": {
    "collapsed": false
   },
   "outputs": [
    {
     "name": "stdout",
     "output_type": "stream",
     "text": [
      "[[ 9.  3.  8.  9.  7.  1.  3.  3.]\n",
      " [ 2.  0.  4.  8.  4.  8.  4.  0.]\n",
      " [ 1.  9.  3.  0.  7.  9.  9.  6.]\n",
      " [ 1.  6.  3.  5.  1.  7.  8.  6.]\n",
      " [ 5.  7.  9.  1.  2.  8.  0.  7.]]\n",
      "[[ True False  True  True  True False False False]\n",
      " [False False False  True False  True False False]\n",
      " [False  True False False  True  True  True  True]\n",
      " [False  True False False False  True  True  True]\n",
      " [False  True  True False False  True False  True]]\n",
      "[[ 0.  3.  0.  0.  0.  1.  3.  3.]\n",
      " [ 2.  0.  4.  0.  4.  0.  4.  0.]\n",
      " [ 1.  0.  3.  0.  0.  0.  0.  0.]\n",
      " [ 1.  0.  3.  5.  1.  0.  0.  0.]\n",
      " [ 5.  0.  0.  1.  2.  0.  0.  0.]]\n"
     ]
    }
   ],
   "source": [
    "s=np.floor(10*np.random.random((5,8)))\n",
    "b=s>5\n",
    "\n",
    "print(s)\n",
    "print(b)\n",
    "\n",
    "s[b]=0\n",
    "\n",
    "print s\n",
    "\n"
   ]
  },
  {
   "cell_type": "markdown",
   "metadata": {},
   "source": [
    "## Linear Algebra"
   ]
  },
  {
   "cell_type": "code",
   "execution_count": 34,
   "metadata": {
    "collapsed": false
   },
   "outputs": [
    {
     "name": "stdout",
     "output_type": "stream",
     "text": [
      "[[1 3]\n",
      " [2 4]]\n",
      "[[-2.   1. ]\n",
      " [ 1.5 -0.5]]\n",
      "(array([-0.37228132,  5.37228132]), array([[-0.82456484, -0.41597356],\n",
      "       [ 0.56576746, -0.90937671]]))\n",
      "[[ 1.  0.]\n",
      " [ 0.  1.]]\n",
      "5\n"
     ]
    }
   ],
   "source": [
    "a=np.array(([[1,2],[3,4]]))\n",
    "\n",
    "# transpose\n",
    "print(a.transpose())\n",
    "\n",
    "#inverse\n",
    "print(np.linalg.inv(a))\n",
    "\n",
    "# Eigen values\n",
    "print(np.linalg.eig(a))\n",
    "\n",
    "# Identity matrix\n",
    "print(np.eye(2))\n",
    "\n",
    "#trace of a matrix\n",
    "print(np.trace(a))"
   ]
  },
  {
   "cell_type": "markdown",
   "metadata": {},
   "source": [
    "## Histograms"
   ]
  },
  {
   "cell_type": "code",
   "execution_count": 48,
   "metadata": {
    "collapsed": false
   },
   "outputs": [
    {
     "data": {
      "image/png": "[encoded data removed]",
      "text/plain": [
       "<matplotlib.figure.Figure at 0x8d0e978>"
      ]
     },
     "metadata": {},
     "output_type": "display_data"
    }
   ],
   "source": [
    "import matplotlib.pyplot as plt\n",
    "\n",
    "mu,sigma=2,0.5\n",
    "\n",
    "v=np.random.normal(mu,sigma,10000)\n",
    "\n",
    "plt.hist(v,bins=100,normed=1)\n",
    "plt.show()\n",
    "\n"
   ]
  },
  {
   "cell_type": "code",
   "execution_count": null,
   "metadata": {
    "collapsed": true
   },
   "outputs": [],
   "source": []
  }
 ],
 "metadata": {
  "anaconda-cloud": {},
  "kernelspec": {
   "display_name": "Python [conda root]",
   "language": "python",
   "name": "conda-root-py"
  },
  "language_info": {
   "codemirror_mode": {
    "name": "ipython",
    "version": 2
   },
   "file_extension": ".py",
   "mimetype": "text/x-python",
   "name": "python",
   "nbconvert_exporter": "python",
   "pygments_lexer": "ipython2",
   "version": "2.7.12"
  }
 },
 "nbformat": 4,
 "nbformat_minor": 1
}
