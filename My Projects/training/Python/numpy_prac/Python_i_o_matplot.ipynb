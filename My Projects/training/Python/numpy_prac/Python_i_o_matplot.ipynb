{
 "cells": [
  {
   "cell_type": "markdown",
   "metadata": {},
   "source": [
    "## Reading and writing files"
   ]
  },
  {
   "cell_type": "code",
   "execution_count": 1,
   "metadata": {
    "collapsed": true
   },
   "outputs": [],
   "source": [
    "# open(filename,mode)\n",
    "#modes-r,w,a(appending),r+ (reading and writing)\n",
    "#'b' appended to the mode opens in binary\n",
    "\n",
    "# f.tell() returns an integer giving the files current position\n",
    "\n",
    "#f.seek(offset,feom_what)\n"
   ]
  },
  {
   "cell_type": "code",
   "execution_count": 2,
   "metadata": {
    "collapsed": false
   },
   "outputs": [
    {
     "data": {
      "text/plain": [
       "'C:\\\\Users\\\\unnikrishnan.s\\\\My Projects\\\\training\\\\Python\\\\numpy_prac'"
      ]
     },
     "execution_count": 2,
     "metadata": {},
     "output_type": "execute_result"
    }
   ],
   "source": [
    "import os\n",
    "os.getcwd()"
   ]
  },
  {
   "cell_type": "code",
   "execution_count": 13,
   "metadata": {
    "collapsed": false
   },
   "outputs": [],
   "source": [
    "f=open(\"ff.csv\",\"r+\")\n",
    "f.write(b\"0.12198uahdsuhiuadhiuh0\")\n",
    "f.close()\n"
   ]
  },
  {
   "cell_type": "code",
   "execution_count": 37,
   "metadata": {
    "collapsed": false
   },
   "outputs": [
    {
     "name": "stdout",
     "output_type": "stream",
     "text": [
      "hiodfh9oh\n",
      "jfaiudsHIUFHN\n",
      "JFDOIUHIOUDSF\n",
      "JHFDIOUHIOFDSH\n",
      "JDFOIHOIASDFJ\n",
      "DSHOFIHOFDSI\n",
      "HDFOIHODSFJA\n",
      "FEIWAHOIHEOWUYFB\tWR9P397RT98F[9\n",
      "HIFEUY9UFG8QTF87TEFW\n",
      "uysdgauygu\n"
     ]
    }
   ],
   "source": [
    "#Saving structured data as JSon\n",
    "\n",
    "import json\n",
    "f=open(\"jambo.txt\",\"a\")\n",
    "f.write(\"uysdgauygu\")\n",
    "\n",
    "g=open(\"jambo.txt\",\"r\")\n",
    "fgh=g.read()\n",
    "print(fgh)\n",
    "    \n",
    "\n",
    "\n",
    "\n",
    "\n",
    "    "
   ]
  },
  {
   "cell_type": "code",
   "execution_count": 49,
   "metadata": {
    "collapsed": false
   },
   "outputs": [],
   "source": [
    "x=\"NULL\"\n",
    "json.dump(x,f)"
   ]
  },
  {
   "cell_type": "code",
   "execution_count": 50,
   "metadata": {
    "collapsed": false
   },
   "outputs": [
    {
     "name": "stdout",
     "output_type": "stream",
     "text": [
      "hiodfh9oh\n",
      "jfaiudsHIUFHN\n",
      "JFDOIUHIOUDSF\n",
      "JHFDIOUHIOFDSH\n",
      "JDFOIHOIASDFJ\n",
      "DSHOFIHOFDSI\n",
      "HDFOIHODSFJA\n",
      "FEIWAHOIHEOWUYFB\tWR9P397RT98F[9\n",
      "HIFEUY9UFG8QTF87TEFW\n",
      "uysdgauygu\n"
     ]
    }
   ],
   "source": [
    "df=open(\"jambo.txt\",\"r\")\n",
    "fg=df.read()\n",
    "print(fg)\n"
   ]
  },
  {
   "cell_type": "markdown",
   "metadata": {},
   "source": [
    "# matplotlib"
   ]
  },
  {
   "cell_type": "code",
   "execution_count": 59,
   "metadata": {
    "collapsed": false
   },
   "outputs": [],
   "source": [
    "import numpy as np\n",
    "import math\n",
    "X=np.linspace(-math.pi,math.pi,256)\n",
    "s=np.sin(X)\n",
    "c=np.cos(X)\n",
    "\n"
   ]
  },
  {
   "cell_type": "code",
   "execution_count": 84,
   "metadata": {
    "collapsed": false
   },
   "outputs": [
    {
     "data": {
      "image/png": "[encoded data removed]",
      "text/plain": [
       "<matplotlib.figure.Figure at 0x9ebf7f0>"
      ]
     },
     "metadata": {},
     "output_type": "display_data"
    }
   ],
   "source": [
    "#  In matplot lib we specify all the plots and then call the show() function\n",
    "\n",
    "import matplotlib.pyplot as plt\n",
    "\n",
    "plt.plot(X,s,color=\"green\",linewidth=5.0,linestyle=\"--\")#linestyles include \":\",\"--\" etc\n",
    "plt.plot(X,c)\n",
    "plt.ylim(-1.5,1.5)\n",
    "plt.xlim(-4,4)\n",
    "plt.xticks(np.linspace(-4,4,11))\n",
    "plt.savefig(\"plot3.png\",dpi=10)  #dpi is dots per inch\n",
    "plt.show()"
   ]
  },
  {
   "cell_type": "code",
   "execution_count": null,
   "metadata": {
    "collapsed": true
   },
   "outputs": [],
   "source": []
  }
 ],
 "metadata": {
  "anaconda-cloud": {},
  "kernelspec": {
   "display_name": "Python [conda root]",
   "language": "python",
   "name": "conda-root-py"
  },
  "language_info": {
   "codemirror_mode": {
    "name": "ipython",
    "version": 2
   },
   "file_extension": ".py",
   "mimetype": "text/x-python",
   "name": "python",
   "nbconvert_exporter": "python",
   "pygments_lexer": "ipython2",
   "version": "2.7.12"
  }
 },
 "nbformat": 4,
 "nbformat_minor": 1
}
